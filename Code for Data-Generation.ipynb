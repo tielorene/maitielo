{
 "cells": [
  {
   "cell_type": "code",
   "execution_count": 26,
   "id": "utility-isolation",
   "metadata": {},
   "outputs": [
    {
     "name": "stderr",
     "output_type": "stream",
     "text": [
      "/home/matielo/.local/lib/python3.9/site-packages/pandas/core/computation/expressions.py:20: UserWarning: Pandas requires version '2.7.3' or newer of 'numexpr' (version '2.7.2' currently installed).\n",
      "  from pandas.core.computation.check import NUMEXPR_INSTALLED\n",
      "/home/matielo/.local/lib/python3.9/site-packages/pandas/core/arrays/masked.py:64: UserWarning: Pandas requires version '1.3.2' or newer of 'bottleneck' (version '1.2.1' currently installed).\n",
      "  from pandas.core import (\n"
     ]
    }
   ],
   "source": [
    "import numpy as np\n",
    "import pandas as pd\n",
    "import matplotlib.pyplot as plt\n",
    "import datetime as dt\n",
    "import random\n",
    "import scipy.stats as stats\n",
    "import seaborn as sns\n",
    "from IPython.core.debugger import set_trace"
   ]
  },
  {
   "cell_type": "code",
   "execution_count": 27,
   "id": "hydraulic-support",
   "metadata": {},
   "outputs": [],
   "source": [
    "#The function below does immunisation by solving 2 simultaneous equations 1)PV(Assets)=PV(Liabilities) and\n",
    "#2) Duration(Assets)=Duration(Liabilities)\n",
    "def zc_immuniser(m1,m2,m3,liab_duration):  #m1,m2,m3=maturity for zero coupon bond 1, bond 2 and bond 3\n",
    "    A=[[1,1],[m1,m2,m3]]   \n",
    "    B=[1,liab_duration]\n",
    "    x=np.linalg.solve(A,B)\n",
    "   \n",
    "    weight1_interim=x[0]\n",
    "    weight2_interim=x[1]\n",
    "    weight3_interim=x[2]\n",
    "    weight1=min(max(weight1_interim,0),1)\n",
    "    weight2=min(max(weight2_interim,0),1)\n",
    "    weight3=min(max(weight3_interim,0),1)\n",
    "    result=np.array([m1,m2,m3, liab_duration,weight1,weight2,weight3])"
   ]
  },
  {
   "cell_type": "code",
   "execution_count": 28,
   "id": "comparable-tomorrow",
   "metadata": {},
   "outputs": [],
   "source": [
    "def liability_duration_sim(steps,prob_increase,max_change,duration_start):\n",
    "    \n",
    "    duration_change_sign = np.random.choice(a=([1,-1]),p=([prob_increase,1-prob_increase]),size=steps)#increase or decrease \n",
    "    magnitude_of_duration_change =np.random.uniform(low=0,high=max_change,size=steps) \n",
    "    duration_change = duration_change_sign*magnitude_of_duration_change\n",
    "    cumulative_duration_change=np.cumsum(duration_change)\n",
    "    liab_duration_sim=duration_start+cumulative_duration_change\n",
    "\n",
    "    return(liab_duration_sim)"
   ]
  },
  {
   "cell_type": "code",
   "execution_count": 29,
   "id": "empty-credits",
   "metadata": {},
   "outputs": [],
   "source": [
    "def asset_term_sim(steps,change_sign,change_size,term_range_start,term_range_end):\n",
    "    \n",
    "    term_start = np.random.uniform(low=term_range_start,high=term_range_end,size=1) \n",
    "    change_sign_array = np.full((steps,),change_sign) \n",
    "    term_change = change_sign_array*change_size\n",
    "    cumulative_term_change = np.cumsum(term_change)\n",
    "    asset_term_sim = term_start+cumulative_term_change\n",
    "\n",
    "    return(asset_term_sim)\n"
   ]
  },
  {
   "cell_type": "code",
   "execution_count": 30,
   "id": "broke-invitation",
   "metadata": {},
   "outputs": [],
   "source": [
    "def generate_one_simulation(steps,prob_increase,max_change,duration_start):\n",
    "    one_liability_simulation=liability_duration_sim(steps,prob_increase,max_change,duration_start)\n",
    "    one_asset1_simulation = asset_term_sim(steps,0,0,10,20)\n",
    "    one_asset2_simulation = asset_term_sim(steps,0,0,20,30)\n",
    "    one_asset3_simulation = asset_term_sim(steps,0,0,30,40)\n",
    "    one_simulation = np.stack((one_asset1_simulation,one_asset2_simulation,one_asset3_simulation,one_liability_simulation),axis=1)\n",
    "    return(one_simulation)"
   ]
  },
  {
   "cell_type": "code",
   "execution_count": 31,
   "id": "interested-yacht",
   "metadata": {},
   "outputs": [],
   "source": [
    "def generate_multiple_simulations(steps,number_simulations,max_change=0.5,duration_start=25):\n",
    "\n",
    "    first_simulation = generate_one_simulation(steps,0.5,max_change,duration_start)\n",
    "    first_simulation_reshaped = np.reshape(first_simulation,(1,first_simulation.shape[0],first_simulation.shape[1]))\n",
    "    multiple_simulations = first_simulation_reshaped\n",
    "    \n",
    "    for i in np.arange(start=1,stop=number_simulations):\n",
    "        prob_inc=np.random.uniform(low=0.3,high=0.7)   #specifying the ranges of drift\n",
    "        ith_simulation = generate_one_simulation(steps,prob_inc,max_change,duration_start)\n",
    "        ith_simulation_reshaped = np.reshape(ith_simulation,(1,ith_simulation.shape[0],ith_simulation.shape[1]))\n",
    "        multiple_simulations = np.concatenate((multiple_simulations,ith_simulation_reshaped),axis=0)\n",
    "    \n",
    "    multiple_simulations = np.transpose(multiple_simulations,axes=(1,0,2))\n",
    "    return(multiple_simulations)"
   ]
  },
  {
   "cell_type": "code",
   "execution_count": 32,
   "id": "systematic-valley",
   "metadata": {},
   "outputs": [
    {
     "data": {
      "text/plain": [
       "(60, 10000, 4)"
      ]
     },
     "execution_count": 32,
     "metadata": {},
     "output_type": "execute_result"
    }
   ],
   "source": [
    "#SIMULATING DATA FOR TRAINING FOR RESEARCH QUESTION 1\n",
    "training_simulation=generate_multiple_simulations(steps=60,max_change=0.5,number_simulations=10000) #SIMULATING DATA FOR A YEAR, WHERE REBALANCING IS DONE EVERY MONTH \n",
    "training_simulation.shape"
   ]
  },
  {
   "cell_type": "code",
   "execution_count": 57,
   "id": "absent-criterion",
   "metadata": {},
   "outputs": [
    {
     "ename": "FileNotFoundError",
     "evalue": "[Errno 2] No such file or directory: 'output/s1.png'",
     "output_type": "error",
     "traceback": [
      "\u001b[0;31m---------------------------------------------------------------------------\u001b[0m",
      "\u001b[0;31mFileNotFoundError\u001b[0m                         Traceback (most recent call last)",
      "\u001b[0;32m<ipython-input-57-97e4e805302e>\u001b[0m in \u001b[0;36m<module>\u001b[0;34m\u001b[0m\n\u001b[1;32m     14\u001b[0m \u001b[0mplt\u001b[0m\u001b[0;34m.\u001b[0m\u001b[0mtitle\u001b[0m\u001b[0;34m(\u001b[0m\u001b[0;34m\"Asset Liability Sample Path 1\"\u001b[0m\u001b[0;34m)\u001b[0m\u001b[0;34m\u001b[0m\u001b[0;34m\u001b[0m\u001b[0m\n\u001b[1;32m     15\u001b[0m \u001b[0mplt\u001b[0m\u001b[0;34m.\u001b[0m\u001b[0mshow\u001b[0m\u001b[0;34m\u001b[0m\u001b[0;34m\u001b[0m\u001b[0m\n\u001b[0;32m---> 16\u001b[0;31m \u001b[0mplt\u001b[0m\u001b[0;34m.\u001b[0m\u001b[0msavefig\u001b[0m\u001b[0;34m(\u001b[0m\u001b[0;34m'output/s1.png'\u001b[0m\u001b[0;34m,\u001b[0m \u001b[0mdpi\u001b[0m\u001b[0;34m=\u001b[0m\u001b[0;36m300\u001b[0m\u001b[0;34m,\u001b[0m \u001b[0mbbox_inches\u001b[0m\u001b[0;34m=\u001b[0m\u001b[0;34m\"tight\"\u001b[0m\u001b[0;34m)\u001b[0m\u001b[0;34m\u001b[0m\u001b[0;34m\u001b[0m\u001b[0m\n\u001b[0m",
      "\u001b[0;32m/usr/lib/python3/dist-packages/matplotlib/pyplot.py\u001b[0m in \u001b[0;36msavefig\u001b[0;34m(*args, **kwargs)\u001b[0m\n\u001b[1;32m    857\u001b[0m \u001b[0;32mdef\u001b[0m \u001b[0msavefig\u001b[0m\u001b[0;34m(\u001b[0m\u001b[0;34m*\u001b[0m\u001b[0margs\u001b[0m\u001b[0;34m,\u001b[0m \u001b[0;34m**\u001b[0m\u001b[0mkwargs\u001b[0m\u001b[0;34m)\u001b[0m\u001b[0;34m:\u001b[0m\u001b[0;34m\u001b[0m\u001b[0;34m\u001b[0m\u001b[0m\n\u001b[1;32m    858\u001b[0m     \u001b[0mfig\u001b[0m \u001b[0;34m=\u001b[0m \u001b[0mgcf\u001b[0m\u001b[0;34m(\u001b[0m\u001b[0;34m)\u001b[0m\u001b[0;34m\u001b[0m\u001b[0;34m\u001b[0m\u001b[0m\n\u001b[0;32m--> 859\u001b[0;31m     \u001b[0mres\u001b[0m \u001b[0;34m=\u001b[0m \u001b[0mfig\u001b[0m\u001b[0;34m.\u001b[0m\u001b[0msavefig\u001b[0m\u001b[0;34m(\u001b[0m\u001b[0;34m*\u001b[0m\u001b[0margs\u001b[0m\u001b[0;34m,\u001b[0m \u001b[0;34m**\u001b[0m\u001b[0mkwargs\u001b[0m\u001b[0;34m)\u001b[0m\u001b[0;34m\u001b[0m\u001b[0;34m\u001b[0m\u001b[0m\n\u001b[0m\u001b[1;32m    860\u001b[0m     \u001b[0mfig\u001b[0m\u001b[0;34m.\u001b[0m\u001b[0mcanvas\u001b[0m\u001b[0;34m.\u001b[0m\u001b[0mdraw_idle\u001b[0m\u001b[0;34m(\u001b[0m\u001b[0;34m)\u001b[0m   \u001b[0;31m# need this if 'transparent=True' to reset colors\u001b[0m\u001b[0;34m\u001b[0m\u001b[0;34m\u001b[0m\u001b[0m\n\u001b[1;32m    861\u001b[0m     \u001b[0;32mreturn\u001b[0m \u001b[0mres\u001b[0m\u001b[0;34m\u001b[0m\u001b[0;34m\u001b[0m\u001b[0m\n",
      "\u001b[0;32m/usr/lib/python3/dist-packages/matplotlib/figure.py\u001b[0m in \u001b[0;36msavefig\u001b[0;34m(self, fname, transparent, **kwargs)\u001b[0m\n\u001b[1;32m   2309\u001b[0m                 \u001b[0mpatch\u001b[0m\u001b[0;34m.\u001b[0m\u001b[0mset_edgecolor\u001b[0m\u001b[0;34m(\u001b[0m\u001b[0;34m'none'\u001b[0m\u001b[0;34m)\u001b[0m\u001b[0;34m\u001b[0m\u001b[0;34m\u001b[0m\u001b[0m\n\u001b[1;32m   2310\u001b[0m \u001b[0;34m\u001b[0m\u001b[0m\n\u001b[0;32m-> 2311\u001b[0;31m         \u001b[0mself\u001b[0m\u001b[0;34m.\u001b[0m\u001b[0mcanvas\u001b[0m\u001b[0;34m.\u001b[0m\u001b[0mprint_figure\u001b[0m\u001b[0;34m(\u001b[0m\u001b[0mfname\u001b[0m\u001b[0;34m,\u001b[0m \u001b[0;34m**\u001b[0m\u001b[0mkwargs\u001b[0m\u001b[0;34m)\u001b[0m\u001b[0;34m\u001b[0m\u001b[0;34m\u001b[0m\u001b[0m\n\u001b[0m\u001b[1;32m   2312\u001b[0m \u001b[0;34m\u001b[0m\u001b[0m\n\u001b[1;32m   2313\u001b[0m         \u001b[0;32mif\u001b[0m \u001b[0mtransparent\u001b[0m\u001b[0;34m:\u001b[0m\u001b[0;34m\u001b[0m\u001b[0;34m\u001b[0m\u001b[0m\n",
      "\u001b[0;32m/usr/lib/python3/dist-packages/matplotlib/backend_bases.py\u001b[0m in \u001b[0;36mprint_figure\u001b[0;34m(self, filename, dpi, facecolor, edgecolor, orientation, format, bbox_inches, pad_inches, bbox_extra_artists, backend, **kwargs)\u001b[0m\n\u001b[1;32m   2208\u001b[0m \u001b[0;34m\u001b[0m\u001b[0m\n\u001b[1;32m   2209\u001b[0m             \u001b[0;32mtry\u001b[0m\u001b[0;34m:\u001b[0m\u001b[0;34m\u001b[0m\u001b[0;34m\u001b[0m\u001b[0m\n\u001b[0;32m-> 2210\u001b[0;31m                 result = print_method(\n\u001b[0m\u001b[1;32m   2211\u001b[0m                     \u001b[0mfilename\u001b[0m\u001b[0;34m,\u001b[0m\u001b[0;34m\u001b[0m\u001b[0;34m\u001b[0m\u001b[0m\n\u001b[1;32m   2212\u001b[0m                     \u001b[0mdpi\u001b[0m\u001b[0;34m=\u001b[0m\u001b[0mdpi\u001b[0m\u001b[0;34m,\u001b[0m\u001b[0;34m\u001b[0m\u001b[0;34m\u001b[0m\u001b[0m\n",
      "\u001b[0;32m/usr/lib/python3/dist-packages/matplotlib/backend_bases.py\u001b[0m in \u001b[0;36mwrapper\u001b[0;34m(*args, **kwargs)\u001b[0m\n\u001b[1;32m   1637\u001b[0m             \u001b[0mkwargs\u001b[0m\u001b[0;34m.\u001b[0m\u001b[0mpop\u001b[0m\u001b[0;34m(\u001b[0m\u001b[0marg\u001b[0m\u001b[0;34m)\u001b[0m\u001b[0;34m\u001b[0m\u001b[0;34m\u001b[0m\u001b[0m\n\u001b[1;32m   1638\u001b[0m \u001b[0;34m\u001b[0m\u001b[0m\n\u001b[0;32m-> 1639\u001b[0;31m         \u001b[0;32mreturn\u001b[0m \u001b[0mfunc\u001b[0m\u001b[0;34m(\u001b[0m\u001b[0;34m*\u001b[0m\u001b[0margs\u001b[0m\u001b[0;34m,\u001b[0m \u001b[0;34m**\u001b[0m\u001b[0mkwargs\u001b[0m\u001b[0;34m)\u001b[0m\u001b[0;34m\u001b[0m\u001b[0;34m\u001b[0m\u001b[0m\n\u001b[0m\u001b[1;32m   1640\u001b[0m \u001b[0;34m\u001b[0m\u001b[0m\n\u001b[1;32m   1641\u001b[0m     \u001b[0;32mreturn\u001b[0m \u001b[0mwrapper\u001b[0m\u001b[0;34m\u001b[0m\u001b[0;34m\u001b[0m\u001b[0m\n",
      "\u001b[0;32m/usr/lib/python3/dist-packages/matplotlib/backends/backend_agg.py\u001b[0m in \u001b[0;36mprint_png\u001b[0;34m(self, filename_or_obj, metadata, pil_kwargs, *args)\u001b[0m\n\u001b[1;32m    508\u001b[0m         \"\"\"\n\u001b[1;32m    509\u001b[0m         \u001b[0mFigureCanvasAgg\u001b[0m\u001b[0;34m.\u001b[0m\u001b[0mdraw\u001b[0m\u001b[0;34m(\u001b[0m\u001b[0mself\u001b[0m\u001b[0;34m)\u001b[0m\u001b[0;34m\u001b[0m\u001b[0;34m\u001b[0m\u001b[0m\n\u001b[0;32m--> 510\u001b[0;31m         mpl.image.imsave(\n\u001b[0m\u001b[1;32m    511\u001b[0m             \u001b[0mfilename_or_obj\u001b[0m\u001b[0;34m,\u001b[0m \u001b[0mself\u001b[0m\u001b[0;34m.\u001b[0m\u001b[0mbuffer_rgba\u001b[0m\u001b[0;34m(\u001b[0m\u001b[0;34m)\u001b[0m\u001b[0;34m,\u001b[0m \u001b[0mformat\u001b[0m\u001b[0;34m=\u001b[0m\u001b[0;34m\"png\"\u001b[0m\u001b[0;34m,\u001b[0m \u001b[0morigin\u001b[0m\u001b[0;34m=\u001b[0m\u001b[0;34m\"upper\"\u001b[0m\u001b[0;34m,\u001b[0m\u001b[0;34m\u001b[0m\u001b[0;34m\u001b[0m\u001b[0m\n\u001b[1;32m    512\u001b[0m             dpi=self.figure.dpi, metadata=metadata, pil_kwargs=pil_kwargs)\n",
      "\u001b[0;32m/usr/lib/python3/dist-packages/matplotlib/image.py\u001b[0m in \u001b[0;36mimsave\u001b[0;34m(fname, arr, vmin, vmax, cmap, format, origin, dpi, metadata, pil_kwargs)\u001b[0m\n\u001b[1;32m   1609\u001b[0m         \u001b[0mpil_kwargs\u001b[0m\u001b[0;34m.\u001b[0m\u001b[0msetdefault\u001b[0m\u001b[0;34m(\u001b[0m\u001b[0;34m\"format\"\u001b[0m\u001b[0;34m,\u001b[0m \u001b[0mformat\u001b[0m\u001b[0;34m)\u001b[0m\u001b[0;34m\u001b[0m\u001b[0;34m\u001b[0m\u001b[0m\n\u001b[1;32m   1610\u001b[0m         \u001b[0mpil_kwargs\u001b[0m\u001b[0;34m.\u001b[0m\u001b[0msetdefault\u001b[0m\u001b[0;34m(\u001b[0m\u001b[0;34m\"dpi\"\u001b[0m\u001b[0;34m,\u001b[0m \u001b[0;34m(\u001b[0m\u001b[0mdpi\u001b[0m\u001b[0;34m,\u001b[0m \u001b[0mdpi\u001b[0m\u001b[0;34m)\u001b[0m\u001b[0;34m)\u001b[0m\u001b[0;34m\u001b[0m\u001b[0;34m\u001b[0m\u001b[0m\n\u001b[0;32m-> 1611\u001b[0;31m         \u001b[0mimage\u001b[0m\u001b[0;34m.\u001b[0m\u001b[0msave\u001b[0m\u001b[0;34m(\u001b[0m\u001b[0mfname\u001b[0m\u001b[0;34m,\u001b[0m \u001b[0;34m**\u001b[0m\u001b[0mpil_kwargs\u001b[0m\u001b[0;34m)\u001b[0m\u001b[0;34m\u001b[0m\u001b[0;34m\u001b[0m\u001b[0m\n\u001b[0m\u001b[1;32m   1612\u001b[0m \u001b[0;34m\u001b[0m\u001b[0m\n\u001b[1;32m   1613\u001b[0m \u001b[0;34m\u001b[0m\u001b[0m\n",
      "\u001b[0;32m/usr/lib/python3/dist-packages/PIL/Image.py\u001b[0m in \u001b[0;36msave\u001b[0;34m(self, fp, format, **params)\u001b[0m\n\u001b[1;32m   2159\u001b[0m                 \u001b[0mfp\u001b[0m \u001b[0;34m=\u001b[0m \u001b[0mbuiltins\u001b[0m\u001b[0;34m.\u001b[0m\u001b[0mopen\u001b[0m\u001b[0;34m(\u001b[0m\u001b[0mfilename\u001b[0m\u001b[0;34m,\u001b[0m \u001b[0;34m\"r+b\"\u001b[0m\u001b[0;34m)\u001b[0m\u001b[0;34m\u001b[0m\u001b[0;34m\u001b[0m\u001b[0m\n\u001b[1;32m   2160\u001b[0m             \u001b[0;32melse\u001b[0m\u001b[0;34m:\u001b[0m\u001b[0;34m\u001b[0m\u001b[0;34m\u001b[0m\u001b[0m\n\u001b[0;32m-> 2161\u001b[0;31m                 \u001b[0mfp\u001b[0m \u001b[0;34m=\u001b[0m \u001b[0mbuiltins\u001b[0m\u001b[0;34m.\u001b[0m\u001b[0mopen\u001b[0m\u001b[0;34m(\u001b[0m\u001b[0mfilename\u001b[0m\u001b[0;34m,\u001b[0m \u001b[0;34m\"w+b\"\u001b[0m\u001b[0;34m)\u001b[0m\u001b[0;34m\u001b[0m\u001b[0;34m\u001b[0m\u001b[0m\n\u001b[0m\u001b[1;32m   2162\u001b[0m \u001b[0;34m\u001b[0m\u001b[0m\n\u001b[1;32m   2163\u001b[0m         \u001b[0;32mtry\u001b[0m\u001b[0;34m:\u001b[0m\u001b[0;34m\u001b[0m\u001b[0;34m\u001b[0m\u001b[0m\n",
      "\u001b[0;31mFileNotFoundError\u001b[0m: [Errno 2] No such file or directory: 'output/s1.png'"
     ]
    },
    {
     "data": {
      "image/png": "[encoded data removed]",
      "text/plain": [
       "<Figure size 432x288 with 1 Axes>"
      ]
     },
     "metadata": {
      "needs_background": "light"
     },
     "output_type": "display_data"
    }
   ],
   "source": [
    "#Simulation 1\n",
    "sim_index=38 #decreasing liability duration\n",
    "asset1term=training_simulation[:,sim_index,0]\n",
    "asset2term=training_simulation[:,sim_index,1]\n",
    "asset2term=training_simulation[:,sim_index,2]\n",
    "liabilities_duration=training_simulation[:,sim_index,3]\n",
    "plt.plot(asset1term,color =\"blue\",label = \"Bond 1 Term\")\n",
    "plt.plot(asset2term,color = \"grey\" ,label = \"Bond 2 Term\")\n",
    "plt.plot(asset3term,color = \"green\" ,label = \"Bond 3 Term\")\n",
    "plt.plot(liabilities_duration,color = \"red\",label = \"Liability Duration\")\n",
    "plt.xlabel(\"time(months)\")\n",
    "plt.ylabel(\"Duration/Term-to-maturity\")\n",
    "plt.legend(loc=\"upper center\",bbox_to_anchor=(0.5, -0.2),ncol = 3)\n",
    "plt.title(\"Asset Liability Sample Path 1\")\n",
    "plt.show\n",
    "plt.savefig('output/s1.png', dpi=300, bbox_inches=\"tight\")"
   ]
  },
  {
   "cell_type": "code",
   "execution_count": 54,
   "id": "official-reporter",
   "metadata": {
    "scrolled": false
   },
   "outputs": [
    {
     "ename": "FileNotFoundError",
     "evalue": "[Errno 2] No such file or directory: 'output/s2.png'",
     "output_type": "error",
     "traceback": [
      "\u001b[0;31m---------------------------------------------------------------------------\u001b[0m",
      "\u001b[0;31mFileNotFoundError\u001b[0m                         Traceback (most recent call last)",
      "\u001b[0;32m<ipython-input-54-b59b8648945a>\u001b[0m in \u001b[0;36m<module>\u001b[0;34m\u001b[0m\n\u001b[1;32m     14\u001b[0m \u001b[0mplt\u001b[0m\u001b[0;34m.\u001b[0m\u001b[0mtitle\u001b[0m\u001b[0;34m(\u001b[0m\u001b[0;34m\"Asset Liability Sample Path 2\"\u001b[0m\u001b[0;34m)\u001b[0m\u001b[0;34m\u001b[0m\u001b[0;34m\u001b[0m\u001b[0m\n\u001b[1;32m     15\u001b[0m \u001b[0mplt\u001b[0m\u001b[0;34m.\u001b[0m\u001b[0mshow\u001b[0m\u001b[0;34m\u001b[0m\u001b[0;34m\u001b[0m\u001b[0m\n\u001b[0;32m---> 16\u001b[0;31m \u001b[0mplt\u001b[0m\u001b[0;34m.\u001b[0m\u001b[0msavefig\u001b[0m\u001b[0;34m(\u001b[0m\u001b[0;34m'output/s2.png'\u001b[0m\u001b[0;34m,\u001b[0m \u001b[0mdpi\u001b[0m\u001b[0;34m=\u001b[0m\u001b[0;36m300\u001b[0m\u001b[0;34m,\u001b[0m \u001b[0mbbox_inches\u001b[0m\u001b[0;34m=\u001b[0m\u001b[0;34m\"tight\"\u001b[0m\u001b[0;34m)\u001b[0m\u001b[0;34m\u001b[0m\u001b[0;34m\u001b[0m\u001b[0m\n\u001b[0m",
      "\u001b[0;32m/usr/lib/python3/dist-packages/matplotlib/pyplot.py\u001b[0m in \u001b[0;36msavefig\u001b[0;34m(*args, **kwargs)\u001b[0m\n\u001b[1;32m    857\u001b[0m \u001b[0;32mdef\u001b[0m \u001b[0msavefig\u001b[0m\u001b[0;34m(\u001b[0m\u001b[0;34m*\u001b[0m\u001b[0margs\u001b[0m\u001b[0;34m,\u001b[0m \u001b[0;34m**\u001b[0m\u001b[0mkwargs\u001b[0m\u001b[0;34m)\u001b[0m\u001b[0;34m:\u001b[0m\u001b[0;34m\u001b[0m\u001b[0;34m\u001b[0m\u001b[0m\n\u001b[1;32m    858\u001b[0m     \u001b[0mfig\u001b[0m \u001b[0;34m=\u001b[0m \u001b[0mgcf\u001b[0m\u001b[0;34m(\u001b[0m\u001b[0;34m)\u001b[0m\u001b[0;34m\u001b[0m\u001b[0;34m\u001b[0m\u001b[0m\n\u001b[0;32m--> 859\u001b[0;31m     \u001b[0mres\u001b[0m \u001b[0;34m=\u001b[0m \u001b[0mfig\u001b[0m\u001b[0;34m.\u001b[0m\u001b[0msavefig\u001b[0m\u001b[0;34m(\u001b[0m\u001b[0;34m*\u001b[0m\u001b[0margs\u001b[0m\u001b[0;34m,\u001b[0m \u001b[0;34m**\u001b[0m\u001b[0mkwargs\u001b[0m\u001b[0;34m)\u001b[0m\u001b[0;34m\u001b[0m\u001b[0;34m\u001b[0m\u001b[0m\n\u001b[0m\u001b[1;32m    860\u001b[0m     \u001b[0mfig\u001b[0m\u001b[0;34m.\u001b[0m\u001b[0mcanvas\u001b[0m\u001b[0;34m.\u001b[0m\u001b[0mdraw_idle\u001b[0m\u001b[0;34m(\u001b[0m\u001b[0;34m)\u001b[0m   \u001b[0;31m# need this if 'transparent=True' to reset colors\u001b[0m\u001b[0;34m\u001b[0m\u001b[0;34m\u001b[0m\u001b[0m\n\u001b[1;32m    861\u001b[0m     \u001b[0;32mreturn\u001b[0m \u001b[0mres\u001b[0m\u001b[0;34m\u001b[0m\u001b[0;34m\u001b[0m\u001b[0m\n",
      "\u001b[0;32m/usr/lib/python3/dist-packages/matplotlib/figure.py\u001b[0m in \u001b[0;36msavefig\u001b[0;34m(self, fname, transparent, **kwargs)\u001b[0m\n\u001b[1;32m   2309\u001b[0m                 \u001b[0mpatch\u001b[0m\u001b[0;34m.\u001b[0m\u001b[0mset_edgecolor\u001b[0m\u001b[0;34m(\u001b[0m\u001b[0;34m'none'\u001b[0m\u001b[0;34m)\u001b[0m\u001b[0;34m\u001b[0m\u001b[0;34m\u001b[0m\u001b[0m\n\u001b[1;32m   2310\u001b[0m \u001b[0;34m\u001b[0m\u001b[0m\n\u001b[0;32m-> 2311\u001b[0;31m         \u001b[0mself\u001b[0m\u001b[0;34m.\u001b[0m\u001b[0mcanvas\u001b[0m\u001b[0;34m.\u001b[0m\u001b[0mprint_figure\u001b[0m\u001b[0;34m(\u001b[0m\u001b[0mfname\u001b[0m\u001b[0;34m,\u001b[0m \u001b[0;34m**\u001b[0m\u001b[0mkwargs\u001b[0m\u001b[0;34m)\u001b[0m\u001b[0;34m\u001b[0m\u001b[0;34m\u001b[0m\u001b[0m\n\u001b[0m\u001b[1;32m   2312\u001b[0m \u001b[0;34m\u001b[0m\u001b[0m\n\u001b[1;32m   2313\u001b[0m         \u001b[0;32mif\u001b[0m \u001b[0mtransparent\u001b[0m\u001b[0;34m:\u001b[0m\u001b[0;34m\u001b[0m\u001b[0;34m\u001b[0m\u001b[0m\n",
      "\u001b[0;32m/usr/lib/python3/dist-packages/matplotlib/backend_bases.py\u001b[0m in \u001b[0;36mprint_figure\u001b[0;34m(self, filename, dpi, facecolor, edgecolor, orientation, format, bbox_inches, pad_inches, bbox_extra_artists, backend, **kwargs)\u001b[0m\n\u001b[1;32m   2208\u001b[0m \u001b[0;34m\u001b[0m\u001b[0m\n\u001b[1;32m   2209\u001b[0m             \u001b[0;32mtry\u001b[0m\u001b[0;34m:\u001b[0m\u001b[0;34m\u001b[0m\u001b[0;34m\u001b[0m\u001b[0m\n\u001b[0;32m-> 2210\u001b[0;31m                 result = print_method(\n\u001b[0m\u001b[1;32m   2211\u001b[0m                     \u001b[0mfilename\u001b[0m\u001b[0;34m,\u001b[0m\u001b[0;34m\u001b[0m\u001b[0;34m\u001b[0m\u001b[0m\n\u001b[1;32m   2212\u001b[0m                     \u001b[0mdpi\u001b[0m\u001b[0;34m=\u001b[0m\u001b[0mdpi\u001b[0m\u001b[0;34m,\u001b[0m\u001b[0;34m\u001b[0m\u001b[0;34m\u001b[0m\u001b[0m\n",
      "\u001b[0;32m/usr/lib/python3/dist-packages/matplotlib/backend_bases.py\u001b[0m in \u001b[0;36mwrapper\u001b[0;34m(*args, **kwargs)\u001b[0m\n\u001b[1;32m   1637\u001b[0m             \u001b[0mkwargs\u001b[0m\u001b[0;34m.\u001b[0m\u001b[0mpop\u001b[0m\u001b[0;34m(\u001b[0m\u001b[0marg\u001b[0m\u001b[0;34m)\u001b[0m\u001b[0;34m\u001b[0m\u001b[0;34m\u001b[0m\u001b[0m\n\u001b[1;32m   1638\u001b[0m \u001b[0;34m\u001b[0m\u001b[0m\n\u001b[0;32m-> 1639\u001b[0;31m         \u001b[0;32mreturn\u001b[0m \u001b[0mfunc\u001b[0m\u001b[0;34m(\u001b[0m\u001b[0;34m*\u001b[0m\u001b[0margs\u001b[0m\u001b[0;34m,\u001b[0m \u001b[0;34m**\u001b[0m\u001b[0mkwargs\u001b[0m\u001b[0;34m)\u001b[0m\u001b[0;34m\u001b[0m\u001b[0;34m\u001b[0m\u001b[0m\n\u001b[0m\u001b[1;32m   1640\u001b[0m \u001b[0;34m\u001b[0m\u001b[0m\n\u001b[1;32m   1641\u001b[0m     \u001b[0;32mreturn\u001b[0m \u001b[0mwrapper\u001b[0m\u001b[0;34m\u001b[0m\u001b[0;34m\u001b[0m\u001b[0m\n",
      "\u001b[0;32m/usr/lib/python3/dist-packages/matplotlib/backends/backend_agg.py\u001b[0m in \u001b[0;36mprint_png\u001b[0;34m(self, filename_or_obj, metadata, pil_kwargs, *args)\u001b[0m\n\u001b[1;32m    508\u001b[0m         \"\"\"\n\u001b[1;32m    509\u001b[0m         \u001b[0mFigureCanvasAgg\u001b[0m\u001b[0;34m.\u001b[0m\u001b[0mdraw\u001b[0m\u001b[0;34m(\u001b[0m\u001b[0mself\u001b[0m\u001b[0;34m)\u001b[0m\u001b[0;34m\u001b[0m\u001b[0;34m\u001b[0m\u001b[0m\n\u001b[0;32m--> 510\u001b[0;31m         mpl.image.imsave(\n\u001b[0m\u001b[1;32m    511\u001b[0m             \u001b[0mfilename_or_obj\u001b[0m\u001b[0;34m,\u001b[0m \u001b[0mself\u001b[0m\u001b[0;34m.\u001b[0m\u001b[0mbuffer_rgba\u001b[0m\u001b[0;34m(\u001b[0m\u001b[0;34m)\u001b[0m\u001b[0;34m,\u001b[0m \u001b[0mformat\u001b[0m\u001b[0;34m=\u001b[0m\u001b[0;34m\"png\"\u001b[0m\u001b[0;34m,\u001b[0m \u001b[0morigin\u001b[0m\u001b[0;34m=\u001b[0m\u001b[0;34m\"upper\"\u001b[0m\u001b[0;34m,\u001b[0m\u001b[0;34m\u001b[0m\u001b[0;34m\u001b[0m\u001b[0m\n\u001b[1;32m    512\u001b[0m             dpi=self.figure.dpi, metadata=metadata, pil_kwargs=pil_kwargs)\n",
      "\u001b[0;32m/usr/lib/python3/dist-packages/matplotlib/image.py\u001b[0m in \u001b[0;36mimsave\u001b[0;34m(fname, arr, vmin, vmax, cmap, format, origin, dpi, metadata, pil_kwargs)\u001b[0m\n\u001b[1;32m   1609\u001b[0m         \u001b[0mpil_kwargs\u001b[0m\u001b[0;34m.\u001b[0m\u001b[0msetdefault\u001b[0m\u001b[0;34m(\u001b[0m\u001b[0;34m\"format\"\u001b[0m\u001b[0;34m,\u001b[0m \u001b[0mformat\u001b[0m\u001b[0;34m)\u001b[0m\u001b[0;34m\u001b[0m\u001b[0;34m\u001b[0m\u001b[0m\n\u001b[1;32m   1610\u001b[0m         \u001b[0mpil_kwargs\u001b[0m\u001b[0;34m.\u001b[0m\u001b[0msetdefault\u001b[0m\u001b[0;34m(\u001b[0m\u001b[0;34m\"dpi\"\u001b[0m\u001b[0;34m,\u001b[0m \u001b[0;34m(\u001b[0m\u001b[0mdpi\u001b[0m\u001b[0;34m,\u001b[0m \u001b[0mdpi\u001b[0m\u001b[0;34m)\u001b[0m\u001b[0;34m)\u001b[0m\u001b[0;34m\u001b[0m\u001b[0;34m\u001b[0m\u001b[0m\n\u001b[0;32m-> 1611\u001b[0;31m         \u001b[0mimage\u001b[0m\u001b[0;34m.\u001b[0m\u001b[0msave\u001b[0m\u001b[0;34m(\u001b[0m\u001b[0mfname\u001b[0m\u001b[0;34m,\u001b[0m \u001b[0;34m**\u001b[0m\u001b[0mpil_kwargs\u001b[0m\u001b[0;34m)\u001b[0m\u001b[0;34m\u001b[0m\u001b[0;34m\u001b[0m\u001b[0m\n\u001b[0m\u001b[1;32m   1612\u001b[0m \u001b[0;34m\u001b[0m\u001b[0m\n\u001b[1;32m   1613\u001b[0m \u001b[0;34m\u001b[0m\u001b[0m\n",
      "\u001b[0;32m/usr/lib/python3/dist-packages/PIL/Image.py\u001b[0m in \u001b[0;36msave\u001b[0;34m(self, fp, format, **params)\u001b[0m\n\u001b[1;32m   2159\u001b[0m                 \u001b[0mfp\u001b[0m \u001b[0;34m=\u001b[0m \u001b[0mbuiltins\u001b[0m\u001b[0;34m.\u001b[0m\u001b[0mopen\u001b[0m\u001b[0;34m(\u001b[0m\u001b[0mfilename\u001b[0m\u001b[0;34m,\u001b[0m \u001b[0;34m\"r+b\"\u001b[0m\u001b[0;34m)\u001b[0m\u001b[0;34m\u001b[0m\u001b[0;34m\u001b[0m\u001b[0m\n\u001b[1;32m   2160\u001b[0m             \u001b[0;32melse\u001b[0m\u001b[0;34m:\u001b[0m\u001b[0;34m\u001b[0m\u001b[0;34m\u001b[0m\u001b[0m\n\u001b[0;32m-> 2161\u001b[0;31m                 \u001b[0mfp\u001b[0m \u001b[0;34m=\u001b[0m \u001b[0mbuiltins\u001b[0m\u001b[0;34m.\u001b[0m\u001b[0mopen\u001b[0m\u001b[0;34m(\u001b[0m\u001b[0mfilename\u001b[0m\u001b[0;34m,\u001b[0m \u001b[0;34m\"w+b\"\u001b[0m\u001b[0;34m)\u001b[0m\u001b[0;34m\u001b[0m\u001b[0;34m\u001b[0m\u001b[0m\n\u001b[0m\u001b[1;32m   2162\u001b[0m \u001b[0;34m\u001b[0m\u001b[0m\n\u001b[1;32m   2163\u001b[0m         \u001b[0;32mtry\u001b[0m\u001b[0;34m:\u001b[0m\u001b[0;34m\u001b[0m\u001b[0;34m\u001b[0m\u001b[0m\n",
      "\u001b[0;31mFileNotFoundError\u001b[0m: [Errno 2] No such file or directory: 'output/s2.png'"
     ]
    },
    {
     "data": {
      "image/png": "[encoded data removed]",
      "text/plain": [
       "<Figure size 432x288 with 1 Axes>"
      ]
     },
     "metadata": {
      "needs_background": "light"
     },
     "output_type": "display_data"
    }
   ],
   "source": [
    "#Simulation 2\n",
    "sim_index=4 #decreasing liability duration\n",
    "asset1term=training_simulation[:,sim_index,0]\n",
    "asset2term=training_simulation[:,sim_index,1]\n",
    "asset3term=training_simulation[:,sim_index,2]\n",
    "liabilities_duration=training_simulation[:,sim_index,3]\n",
    "plt.plot(asset1term,color =\"blue\",label = \"Bond 1 Term\")\n",
    "plt.plot(asset2term,color = \"grey\" ,label = \"Bond 2 Term\")\n",
    "plt.plot(asset3term,color = \"green\" ,label = \"Bond 3 Term\")\n",
    "plt.plot(liabilities_duration,color = \"red\",label = \"Liability Duration\")\n",
    "plt.xlabel(\"time(months)\")\n",
    "plt.ylabel(\"Duration/Term-to-maturity\")\n",
    "plt.legend(loc=\"upper center\",bbox_to_anchor=(0.5, -0.2),ncol = 3)\n",
    "plt.title(\"Asset Liability Sample Path 2\")\n",
    "plt.show\n",
    "plt.savefig('output/s2.png', dpi=300, bbox_inches=\"tight\")"
   ]
  },
  {
   "cell_type": "code",
   "execution_count": 40,
   "id": "specified-synthesis",
   "metadata": {},
   "outputs": [
    {
     "ename": "FileNotFoundError",
     "evalue": "[Errno 2] No such file or directory: 'output/s3.png'",
     "output_type": "error",
     "traceback": [
      "\u001b[0;31m---------------------------------------------------------------------------\u001b[0m",
      "\u001b[0;31mFileNotFoundError\u001b[0m                         Traceback (most recent call last)",
      "\u001b[0;32m<ipython-input-40-d13f534a264c>\u001b[0m in \u001b[0;36m<module>\u001b[0;34m\u001b[0m\n\u001b[1;32m     14\u001b[0m \u001b[0mplt\u001b[0m\u001b[0;34m.\u001b[0m\u001b[0mtitle\u001b[0m\u001b[0;34m(\u001b[0m\u001b[0;34m\"Asset Liability Sample Path 3\"\u001b[0m\u001b[0;34m)\u001b[0m\u001b[0;34m\u001b[0m\u001b[0;34m\u001b[0m\u001b[0m\n\u001b[1;32m     15\u001b[0m \u001b[0mplt\u001b[0m\u001b[0;34m.\u001b[0m\u001b[0mshow\u001b[0m\u001b[0;34m\u001b[0m\u001b[0;34m\u001b[0m\u001b[0m\n\u001b[0;32m---> 16\u001b[0;31m \u001b[0mplt\u001b[0m\u001b[0;34m.\u001b[0m\u001b[0msavefig\u001b[0m\u001b[0;34m(\u001b[0m\u001b[0;34m'output/s3.png'\u001b[0m\u001b[0;34m,\u001b[0m \u001b[0mdpi\u001b[0m\u001b[0;34m=\u001b[0m\u001b[0;36m300\u001b[0m\u001b[0;34m,\u001b[0m \u001b[0mbbox_inches\u001b[0m\u001b[0;34m=\u001b[0m\u001b[0;34m\"tight\"\u001b[0m\u001b[0;34m)\u001b[0m\u001b[0;34m\u001b[0m\u001b[0;34m\u001b[0m\u001b[0m\n\u001b[0m",
      "\u001b[0;32m/usr/lib/python3/dist-packages/matplotlib/pyplot.py\u001b[0m in \u001b[0;36msavefig\u001b[0;34m(*args, **kwargs)\u001b[0m\n\u001b[1;32m    857\u001b[0m \u001b[0;32mdef\u001b[0m \u001b[0msavefig\u001b[0m\u001b[0;34m(\u001b[0m\u001b[0;34m*\u001b[0m\u001b[0margs\u001b[0m\u001b[0;34m,\u001b[0m \u001b[0;34m**\u001b[0m\u001b[0mkwargs\u001b[0m\u001b[0;34m)\u001b[0m\u001b[0;34m:\u001b[0m\u001b[0;34m\u001b[0m\u001b[0;34m\u001b[0m\u001b[0m\n\u001b[1;32m    858\u001b[0m     \u001b[0mfig\u001b[0m \u001b[0;34m=\u001b[0m \u001b[0mgcf\u001b[0m\u001b[0;34m(\u001b[0m\u001b[0;34m)\u001b[0m\u001b[0;34m\u001b[0m\u001b[0;34m\u001b[0m\u001b[0m\n\u001b[0;32m--> 859\u001b[0;31m     \u001b[0mres\u001b[0m \u001b[0;34m=\u001b[0m \u001b[0mfig\u001b[0m\u001b[0;34m.\u001b[0m\u001b[0msavefig\u001b[0m\u001b[0;34m(\u001b[0m\u001b[0;34m*\u001b[0m\u001b[0margs\u001b[0m\u001b[0;34m,\u001b[0m \u001b[0;34m**\u001b[0m\u001b[0mkwargs\u001b[0m\u001b[0;34m)\u001b[0m\u001b[0;34m\u001b[0m\u001b[0;34m\u001b[0m\u001b[0m\n\u001b[0m\u001b[1;32m    860\u001b[0m     \u001b[0mfig\u001b[0m\u001b[0;34m.\u001b[0m\u001b[0mcanvas\u001b[0m\u001b[0;34m.\u001b[0m\u001b[0mdraw_idle\u001b[0m\u001b[0;34m(\u001b[0m\u001b[0;34m)\u001b[0m   \u001b[0;31m# need this if 'transparent=True' to reset colors\u001b[0m\u001b[0;34m\u001b[0m\u001b[0;34m\u001b[0m\u001b[0m\n\u001b[1;32m    861\u001b[0m     \u001b[0;32mreturn\u001b[0m \u001b[0mres\u001b[0m\u001b[0;34m\u001b[0m\u001b[0;34m\u001b[0m\u001b[0m\n",
      "\u001b[0;32m/usr/lib/python3/dist-packages/matplotlib/figure.py\u001b[0m in \u001b[0;36msavefig\u001b[0;34m(self, fname, transparent, **kwargs)\u001b[0m\n\u001b[1;32m   2309\u001b[0m                 \u001b[0mpatch\u001b[0m\u001b[0;34m.\u001b[0m\u001b[0mset_edgecolor\u001b[0m\u001b[0;34m(\u001b[0m\u001b[0;34m'none'\u001b[0m\u001b[0;34m)\u001b[0m\u001b[0;34m\u001b[0m\u001b[0;34m\u001b[0m\u001b[0m\n\u001b[1;32m   2310\u001b[0m \u001b[0;34m\u001b[0m\u001b[0m\n\u001b[0;32m-> 2311\u001b[0;31m         \u001b[0mself\u001b[0m\u001b[0;34m.\u001b[0m\u001b[0mcanvas\u001b[0m\u001b[0;34m.\u001b[0m\u001b[0mprint_figure\u001b[0m\u001b[0;34m(\u001b[0m\u001b[0mfname\u001b[0m\u001b[0;34m,\u001b[0m \u001b[0;34m**\u001b[0m\u001b[0mkwargs\u001b[0m\u001b[0;34m)\u001b[0m\u001b[0;34m\u001b[0m\u001b[0;34m\u001b[0m\u001b[0m\n\u001b[0m\u001b[1;32m   2312\u001b[0m \u001b[0;34m\u001b[0m\u001b[0m\n\u001b[1;32m   2313\u001b[0m         \u001b[0;32mif\u001b[0m \u001b[0mtransparent\u001b[0m\u001b[0;34m:\u001b[0m\u001b[0;34m\u001b[0m\u001b[0;34m\u001b[0m\u001b[0m\n",
      "\u001b[0;32m/usr/lib/python3/dist-packages/matplotlib/backend_bases.py\u001b[0m in \u001b[0;36mprint_figure\u001b[0;34m(self, filename, dpi, facecolor, edgecolor, orientation, format, bbox_inches, pad_inches, bbox_extra_artists, backend, **kwargs)\u001b[0m\n\u001b[1;32m   2208\u001b[0m \u001b[0;34m\u001b[0m\u001b[0m\n\u001b[1;32m   2209\u001b[0m             \u001b[0;32mtry\u001b[0m\u001b[0;34m:\u001b[0m\u001b[0;34m\u001b[0m\u001b[0;34m\u001b[0m\u001b[0m\n\u001b[0;32m-> 2210\u001b[0;31m                 result = print_method(\n\u001b[0m\u001b[1;32m   2211\u001b[0m                     \u001b[0mfilename\u001b[0m\u001b[0;34m,\u001b[0m\u001b[0;34m\u001b[0m\u001b[0;34m\u001b[0m\u001b[0m\n\u001b[1;32m   2212\u001b[0m                     \u001b[0mdpi\u001b[0m\u001b[0;34m=\u001b[0m\u001b[0mdpi\u001b[0m\u001b[0;34m,\u001b[0m\u001b[0;34m\u001b[0m\u001b[0;34m\u001b[0m\u001b[0m\n",
      "\u001b[0;32m/usr/lib/python3/dist-packages/matplotlib/backend_bases.py\u001b[0m in \u001b[0;36mwrapper\u001b[0;34m(*args, **kwargs)\u001b[0m\n\u001b[1;32m   1637\u001b[0m             \u001b[0mkwargs\u001b[0m\u001b[0;34m.\u001b[0m\u001b[0mpop\u001b[0m\u001b[0;34m(\u001b[0m\u001b[0marg\u001b[0m\u001b[0;34m)\u001b[0m\u001b[0;34m\u001b[0m\u001b[0;34m\u001b[0m\u001b[0m\n\u001b[1;32m   1638\u001b[0m \u001b[0;34m\u001b[0m\u001b[0m\n\u001b[0;32m-> 1639\u001b[0;31m         \u001b[0;32mreturn\u001b[0m \u001b[0mfunc\u001b[0m\u001b[0;34m(\u001b[0m\u001b[0;34m*\u001b[0m\u001b[0margs\u001b[0m\u001b[0;34m,\u001b[0m \u001b[0;34m**\u001b[0m\u001b[0mkwargs\u001b[0m\u001b[0;34m)\u001b[0m\u001b[0;34m\u001b[0m\u001b[0;34m\u001b[0m\u001b[0m\n\u001b[0m\u001b[1;32m   1640\u001b[0m \u001b[0;34m\u001b[0m\u001b[0m\n\u001b[1;32m   1641\u001b[0m     \u001b[0;32mreturn\u001b[0m \u001b[0mwrapper\u001b[0m\u001b[0;34m\u001b[0m\u001b[0;34m\u001b[0m\u001b[0m\n",
      "\u001b[0;32m/usr/lib/python3/dist-packages/matplotlib/backends/backend_agg.py\u001b[0m in \u001b[0;36mprint_png\u001b[0;34m(self, filename_or_obj, metadata, pil_kwargs, *args)\u001b[0m\n\u001b[1;32m    508\u001b[0m         \"\"\"\n\u001b[1;32m    509\u001b[0m         \u001b[0mFigureCanvasAgg\u001b[0m\u001b[0;34m.\u001b[0m\u001b[0mdraw\u001b[0m\u001b[0;34m(\u001b[0m\u001b[0mself\u001b[0m\u001b[0;34m)\u001b[0m\u001b[0;34m\u001b[0m\u001b[0;34m\u001b[0m\u001b[0m\n\u001b[0;32m--> 510\u001b[0;31m         mpl.image.imsave(\n\u001b[0m\u001b[1;32m    511\u001b[0m             \u001b[0mfilename_or_obj\u001b[0m\u001b[0;34m,\u001b[0m \u001b[0mself\u001b[0m\u001b[0;34m.\u001b[0m\u001b[0mbuffer_rgba\u001b[0m\u001b[0;34m(\u001b[0m\u001b[0;34m)\u001b[0m\u001b[0;34m,\u001b[0m \u001b[0mformat\u001b[0m\u001b[0;34m=\u001b[0m\u001b[0;34m\"png\"\u001b[0m\u001b[0;34m,\u001b[0m \u001b[0morigin\u001b[0m\u001b[0;34m=\u001b[0m\u001b[0;34m\"upper\"\u001b[0m\u001b[0;34m,\u001b[0m\u001b[0;34m\u001b[0m\u001b[0;34m\u001b[0m\u001b[0m\n\u001b[1;32m    512\u001b[0m             dpi=self.figure.dpi, metadata=metadata, pil_kwargs=pil_kwargs)\n",
      "\u001b[0;32m/usr/lib/python3/dist-packages/matplotlib/image.py\u001b[0m in \u001b[0;36mimsave\u001b[0;34m(fname, arr, vmin, vmax, cmap, format, origin, dpi, metadata, pil_kwargs)\u001b[0m\n\u001b[1;32m   1609\u001b[0m         \u001b[0mpil_kwargs\u001b[0m\u001b[0;34m.\u001b[0m\u001b[0msetdefault\u001b[0m\u001b[0;34m(\u001b[0m\u001b[0;34m\"format\"\u001b[0m\u001b[0;34m,\u001b[0m \u001b[0mformat\u001b[0m\u001b[0;34m)\u001b[0m\u001b[0;34m\u001b[0m\u001b[0;34m\u001b[0m\u001b[0m\n\u001b[1;32m   1610\u001b[0m         \u001b[0mpil_kwargs\u001b[0m\u001b[0;34m.\u001b[0m\u001b[0msetdefault\u001b[0m\u001b[0;34m(\u001b[0m\u001b[0;34m\"dpi\"\u001b[0m\u001b[0;34m,\u001b[0m \u001b[0;34m(\u001b[0m\u001b[0mdpi\u001b[0m\u001b[0;34m,\u001b[0m \u001b[0mdpi\u001b[0m\u001b[0;34m)\u001b[0m\u001b[0;34m)\u001b[0m\u001b[0;34m\u001b[0m\u001b[0;34m\u001b[0m\u001b[0m\n\u001b[0;32m-> 1611\u001b[0;31m         \u001b[0mimage\u001b[0m\u001b[0;34m.\u001b[0m\u001b[0msave\u001b[0m\u001b[0;34m(\u001b[0m\u001b[0mfname\u001b[0m\u001b[0;34m,\u001b[0m \u001b[0;34m**\u001b[0m\u001b[0mpil_kwargs\u001b[0m\u001b[0;34m)\u001b[0m\u001b[0;34m\u001b[0m\u001b[0;34m\u001b[0m\u001b[0m\n\u001b[0m\u001b[1;32m   1612\u001b[0m \u001b[0;34m\u001b[0m\u001b[0m\n\u001b[1;32m   1613\u001b[0m \u001b[0;34m\u001b[0m\u001b[0m\n",
      "\u001b[0;32m/usr/lib/python3/dist-packages/PIL/Image.py\u001b[0m in \u001b[0;36msave\u001b[0;34m(self, fp, format, **params)\u001b[0m\n\u001b[1;32m   2159\u001b[0m                 \u001b[0mfp\u001b[0m \u001b[0;34m=\u001b[0m \u001b[0mbuiltins\u001b[0m\u001b[0;34m.\u001b[0m\u001b[0mopen\u001b[0m\u001b[0;34m(\u001b[0m\u001b[0mfilename\u001b[0m\u001b[0;34m,\u001b[0m \u001b[0;34m\"r+b\"\u001b[0m\u001b[0;34m)\u001b[0m\u001b[0;34m\u001b[0m\u001b[0;34m\u001b[0m\u001b[0m\n\u001b[1;32m   2160\u001b[0m             \u001b[0;32melse\u001b[0m\u001b[0;34m:\u001b[0m\u001b[0;34m\u001b[0m\u001b[0;34m\u001b[0m\u001b[0m\n\u001b[0;32m-> 2161\u001b[0;31m                 \u001b[0mfp\u001b[0m \u001b[0;34m=\u001b[0m \u001b[0mbuiltins\u001b[0m\u001b[0;34m.\u001b[0m\u001b[0mopen\u001b[0m\u001b[0;34m(\u001b[0m\u001b[0mfilename\u001b[0m\u001b[0;34m,\u001b[0m \u001b[0;34m\"w+b\"\u001b[0m\u001b[0;34m)\u001b[0m\u001b[0;34m\u001b[0m\u001b[0;34m\u001b[0m\u001b[0m\n\u001b[0m\u001b[1;32m   2162\u001b[0m \u001b[0;34m\u001b[0m\u001b[0m\n\u001b[1;32m   2163\u001b[0m         \u001b[0;32mtry\u001b[0m\u001b[0;34m:\u001b[0m\u001b[0;34m\u001b[0m\u001b[0;34m\u001b[0m\u001b[0m\n",
      "\u001b[0;31mFileNotFoundError\u001b[0m: [Errno 2] No such file or directory: 'output/s3.png'"
     ]
    },
    {
     "data": {
      "image/png": "[encoded data removed]",
      "text/plain": [
       "<Figure size 432x288 with 1 Axes>"
      ]
     },
     "metadata": {
      "needs_background": "light"
     },
     "output_type": "display_data"
    }
   ],
   "source": [
    "#Simulation 3\n",
    "sim_index=8 #constant duration\n",
    "asset1term=training_simulation[:,sim_index,0]\n",
    "asset2term=training_simulation[:,sim_index,1]\n",
    "asset3term=training_simulation[:,sim_index,2]\n",
    "liabilities_duration=training_simulation[:,sim_index,3]\n",
    "plt.plot(asset1term,color =\"blue\",label = \"Bond 1 Term\")\n",
    "plt.plot(asset2term,color = \"grey\" ,label = \"Bond 2 Term\")\n",
    "plt.plot(asset3term,color = \"green\" ,label = \"Bond 3 Term\")\n",
    "plt.plot(liabilities_duration,color = \"red\",label = \"Liability Duration\")\n",
    "plt.xlabel(\"time(months)\")\n",
    "plt.ylabel(\"Duration/Term-to-maturity\")\n",
    "plt.legend(loc=\"upper center\",bbox_to_anchor=(0.5, -0.2),ncol = 3)\n",
    "plt.title(\"Asset Liability Sample Path 3\")\n",
    "plt.show\n",
    "plt.savefig('output/s3.png', dpi=300, bbox_inches=\"tight\")"
   ]
  },
  {
   "cell_type": "code",
   "execution_count": 18,
   "id": "configured-chassis",
   "metadata": {},
   "outputs": [
    {
     "name": "stdout",
     "output_type": "stream",
     "text": [
      "15\n"
     ]
    }
   ],
   "source": [
    "#T(Z1):random numbers between (10,20)\n",
    "import numpy as np\n",
    "import random\n",
    "\n",
    "print(random.randint(10,20))"
   ]
  },
  {
   "cell_type": "code",
   "execution_count": 19,
   "id": "global-plenty",
   "metadata": {},
   "outputs": [
    {
     "name": "stdout",
     "output_type": "stream",
     "text": [
      "26\n"
     ]
    }
   ],
   "source": [
    "#T(Z2):random numbers between (20,30)\n",
    "import numpy as np\n",
    "import random\n",
    "\n",
    "print(random.randint(20,30))"
   ]
  },
  {
   "cell_type": "code",
   "execution_count": 72,
   "id": "breathing-quick",
   "metadata": {},
   "outputs": [
    {
     "name": "stdout",
     "output_type": "stream",
     "text": [
      "31\n"
     ]
    }
   ],
   "source": [
    "#T(Z3):random numbers between (30,40)\n",
    "import numpy as np\n",
    "import random\n",
    "\n",
    "print(random.randint(30,40))"
   ]
  },
  {
   "cell_type": "code",
   "execution_count": 71,
   "id": "affected-morocco",
   "metadata": {},
   "outputs": [
    {
     "name": "stdout",
     "output_type": "stream",
     "text": [
      "28\n"
     ]
    }
   ],
   "source": [
    "#T(L):random numbers between (15,35)\n",
    "import numpy as np\n",
    "import random\n",
    "\n",
    "print(random.randint(15,35))"
   ]
  },
  {
   "cell_type": "code",
   "execution_count": 169,
   "id": "retained-maple",
   "metadata": {},
   "outputs": [
    {
     "data": {
      "text/plain": [
       "31.83"
      ]
     },
     "execution_count": 169,
     "metadata": {},
     "output_type": "execute_result"
    }
   ],
   "source": [
    "#T(L):random numbers between (10,20)\n",
    "import numpy as np\n",
    "import random\n",
    "round(random.uniform(15, 35), 2)"
   ]
  },
  {
   "cell_type": "code",
   "execution_count": 142,
   "id": "junior-makeup",
   "metadata": {},
   "outputs": [
    {
     "name": "stdout",
     "output_type": "stream",
     "text": [
      "Optimized weights: [0.51513094 0.26294932 0.22191974]\n"
     ]
    }
   ],
   "source": [
    "import numpy as np\n",
    "\n",
    "from scipy.optimize import minimize\n",
    "\n",
    "# Define the function to be minimized\n",
    "def objective_function(w):\n",
    "    w1, w2, w3 = w\n",
    "    T_Z1 =10.39 # Provide the term-to-maturity for Bond 1 \n",
    "    T_Z2 = 28.03 # Provide the term-to-maturity for Bond 2 \n",
    "    T_Z3 = 30.9 # Provide the term-to-maturity for Bond 3 \n",
    "    T_L = 19.58 # Provide the weighted timing of the liability cash flows\n",
    "    \n",
    "    return (w1*T_Z1 + w2*T_Z2 + w3*T_Z3 - T_L)**2 + 1000*(w1 + w2 + w3 - 1)**2 \n",
    "\n",
    "# Initial guess for the weights\n",
    "initial_guess = [0.33, 0.33, 0.33]  # Initial guess, sum of weights = 1\n",
    "\n",
    "# Define the bounds for the weights (0 <= w_i <= 1 for i=1,2,3)\n",
    "bounds = [(0, 1), (0, 1), (0, 1)]\n",
    "\n",
    "# Minimize the objective function\n",
    "result = minimize(objective_function, initial_guess, bounds=bounds)\n",
    "\n",
    "# Extract the optimized weights\n",
    "optimized_weights = result.x\n",
    "\n",
    "print(\"Optimized weights:\", optimized_weights)\n"
   ]
  },
  {
   "cell_type": "code",
   "execution_count": 31,
   "id": "amber-consultation",
   "metadata": {},
   "outputs": [
    {
     "name": "stdout",
     "output_type": "stream",
     "text": [
      "5.2899998948441503e-14\n"
     ]
    }
   ],
   "source": [
    "w1,w2,w3 = 0.60805861, 0.30586083, 0.08608056\n",
    "T_Z1 =15 #the term-to-maturity for Bond 1 \n",
    "T_Z2 = 26 #the term-to-maturity for Bond 2 \n",
    "T_Z3 = 34 #the term-to-maturity for Bond 3 \n",
    "T_L = 20 #the weighted timing of the liability cash flows\n",
    "\n",
    "print((w1*T_Z1 + w2*T_Z2 + w3*T_Z3 - T_L)**2)\n"
   ]
  },
  {
   "cell_type": "code",
   "execution_count": 3,
   "id": "modern-bernard",
   "metadata": {
    "scrolled": false
   },
   "outputs": [
    {
     "name": "stdout",
     "output_type": "stream",
     "text": [
      "For random number 1: 34.11714775827326\n",
      "Optimized weights: [0.33000476 0.33000476 0.33000476]\n",
      "e_it: 0.14554073559158132\n",
      "==============================\n",
      "For random number 2: 33.837392952713486\n",
      "Optimized weights: [0.3300037  0.32999807 0.33000369]\n",
      "e_it: 6.986850427670826\n",
      "==============================\n",
      "For random number 3: 27.009596948350193\n",
      "Optimized weights: [0.33000033 0.33000152 0.33000311]\n",
      "e_it: 17.524327267961766\n",
      "==============================\n",
      "For random number 4: 23.969892709470827\n",
      "Optimized weights: [0.32999997 0.33000006 0.33000006]\n",
      "e_it: 40.988310596510985\n",
      "==============================\n",
      "For random number 5: 27.974353674405492\n",
      "Optimized weights: [0.33000861 0.32999576 0.33000861]\n",
      "e_it: 4.123121205349886\n",
      "==============================\n",
      "For random number 6: 16.96729746085778\n",
      "Optimized weights: [0.33000014 0.32999993 0.33000014]\n",
      "e_it: 52.871448859283575\n",
      "==============================\n",
      "For random number 7: 25.36887077511345\n",
      "Optimized weights: [0.33 0.33 0.33]\n",
      "e_it: 64.81237132884144\n",
      "==============================\n",
      "For random number 8: 33.44307662470527\n",
      "Optimized weights: [0.33000514 0.33000538 0.32999745]\n",
      "e_it: 3.538174875097702\n",
      "==============================\n",
      "For random number 9: 21.141228110040874\n",
      "Optimized weights: [0.33000272 0.32999866 0.32999866]\n",
      "e_it: 77.44236118710728\n",
      "==============================\n",
      "For random number 10: 30.23474972049603\n",
      "Optimized weights: [0.33000078 0.33000078 0.33000078]\n",
      "e_it: 51.42780888072697\n",
      "==============================\n",
      "For random number 11: 30.46834896074386\n",
      "Optimized weights: [0.33000011 0.32999995 0.32999995]\n",
      "e_it: 26.68019147821358\n",
      "==============================\n",
      "For random number 12: 25.66947897778538\n",
      "Optimized weights: [0.32999987 0.33000008 0.33000013]\n",
      "e_it: 0.13825962738683026\n",
      "==============================\n",
      "For random number 13: 23.81528716462413\n",
      "Optimized weights: [0.32999969 0.33000057 0.32999971]\n",
      "e_it: 8.71068171556498\n",
      "==============================\n",
      "For random number 14: 18.12389507493916\n",
      "Optimized weights: [0.32999924 0.32999909 0.33000124]\n",
      "e_it: 37.134594404382476\n",
      "==============================\n",
      "For random number 15: 22.978458881179794\n",
      "Optimized weights: [0.33 0.33 0.33]\n",
      "e_it: 7.040063360000016\n",
      "==============================\n",
      "For random number 16: 32.06955833194202\n",
      "Optimized weights: [0.32999863 0.33000277 0.33000277]\n",
      "e_it: 43.20897943417633\n",
      "==============================\n",
      "For random number 17: 33.105544487874354\n",
      "Optimized weights: [0.32999987 0.32999987 0.32999987]\n",
      "e_it: 61.18347044101518\n",
      "==============================\n",
      "For random number 18: 15.988406353206644\n",
      "Optimized weights: [0.33 0.33 0.33]\n",
      "e_it: 55.83518335999998\n",
      "==============================\n",
      "For random number 19: 24.683323225755345\n",
      "Optimized weights: [0.33000299 0.33000228 0.32999988]\n",
      "e_it: 3.880233062554494\n",
      "==============================\n",
      "For random number 20: 17.38062041031378\n",
      "Optimized weights: [0.33 0.33 0.33]\n",
      "e_it: 26.065139359999975\n",
      "==============================\n",
      "For random number 21: 16.115628618231394\n",
      "Optimized weights: [0.33000356 0.32999824 0.32999824]\n",
      "e_it: 46.264773402775376\n",
      "==============================\n",
      "For random number 22: 19.325476112210126\n",
      "Optimized weights: [0.33 0.33 0.33]\n",
      "e_it: 1.4326393597480063\n",
      "==============================\n",
      "For random number 23: 28.514669687827382\n",
      "Optimized weights: [0.33000146 0.33000149 0.3300015 ]\n",
      "e_it: 19.762898132106084\n",
      "==============================\n",
      "For random number 24: 16.196858710837652\n",
      "Optimized weights: [0.32999975 0.32999975 0.32999975]\n",
      "e_it: 0.8999971252130653\n",
      "==============================\n",
      "For random number 25: 31.626827170748754\n",
      "Optimized weights: [0.33000001 0.33       0.33      ]\n",
      "e_it: 55.83518184913539\n",
      "==============================\n",
      "For random number 26: 28.95817672325772\n",
      "Optimized weights: [0.32999977 0.32999977 0.33000047]\n",
      "e_it: 58.68975363468996\n",
      "==============================\n",
      "For random number 27: 24.766662504616328\n",
      "Optimized weights: [0.33 0.33 0.33]\n",
      "e_it: 29.972783359999983\n",
      "==============================\n",
      "For random number 28: 18.040627580763683\n",
      "Optimized weights: [0.33000016 0.33000016 0.32999992]\n",
      "e_it: 0.13040918983906996\n",
      "==============================\n",
      "For random number 29: 20.46715248094376\n",
      "Optimized weights: [0.3299974 0.3299974 0.3299974]\n",
      "e_it: 139.920852475952\n",
      "==============================\n",
      "For random number 30: 31.599666937661755\n",
      "Optimized weights: [0.33000289 0.32999761 0.33000274]\n",
      "e_it: 54.50011341722887\n",
      "==============================\n",
      "For random number 31: 23.569701401749498\n",
      "Optimized weights: [0.33 0.33 0.33]\n",
      "e_it: 42.79838684508894\n",
      "==============================\n",
      "For random number 32: 32.17353809708647\n",
      "Optimized weights: [0.32999978 0.32999978 0.32999978]\n",
      "e_it: 90.24392761169169\n",
      "==============================\n",
      "For random number 33: 19.56153988066543\n",
      "Optimized weights: [0.3300006  0.33000055 0.33000054]\n",
      "e_it: 30.39796121877339\n",
      "==============================\n",
      "For random number 34: 22.530991618127324\n",
      "Optimized weights: [0.32999999 0.33000002 0.33000002]\n",
      "e_it: 96.42242505506464\n",
      "==============================\n",
      "For random number 35: 21.874459704240888\n",
      "Optimized weights: [0.33 0.33 0.33]\n",
      "e_it: 0.10891136000000023\n",
      "==============================\n",
      "For random number 36: 34.03548407656733\n",
      "Optimized weights: [0.33 0.33 0.33]\n",
      "e_it: 24.9562069096335\n",
      "==============================\n",
      "For random number 37: 28.402411020852448\n",
      "Optimized weights: [0.33 0.33 0.33]\n",
      "e_it: 52.59871935999997\n",
      "==============================\n",
      "For random number 38: 18.70337174756393\n",
      "Optimized weights: [0.32999921 0.32999921 0.32999921]\n",
      "e_it: 8.953918260268601\n",
      "==============================\n",
      "For random number 39: 20.878534362294232\n",
      "Optimized weights: [0.33 0.33 0.33]\n",
      "e_it: 47.082799360000024\n",
      "==============================\n",
      "For random number 40: 20.958489593223394\n",
      "Optimized weights: [0.32999611 0.32999611 0.32999611]\n",
      "e_it: 20.03940830436201\n",
      "==============================\n",
      "For random number 41: 26.507021143657386\n",
      "Optimized weights: [0.33000016 0.32999992 0.32999992]\n",
      "e_it: 37.622938061249975\n",
      "==============================\n",
      "For random number 42: 29.637799300286222\n",
      "Optimized weights: [0.32999977 0.3300004  0.33000013]\n",
      "e_it: 3.8032608053601806\n",
      "==============================\n",
      "For random number 43: 21.807632828755832\n",
      "Optimized weights: [0.33000552 0.32999635 0.3299973 ]\n",
      "e_it: 35.80627860684812\n",
      "==============================\n",
      "For random number 44: 25.064732674195003\n",
      "Optimized weights: [0.33000123 0.33000123 0.33000123]\n",
      "e_it: 20.56935135442945\n",
      "==============================\n",
      "For random number 45: 24.772057582370294\n",
      "Optimized weights: [0.32999998 0.33000003 0.32999998]\n",
      "e_it: 0.32505509760451845\n",
      "==============================\n",
      "For random number 46: 30.528900323825376\n",
      "Optimized weights: [0.33000095 0.33000079 0.33000091]\n",
      "e_it: 23.181630048081278\n",
      "==============================\n",
      "For random number 47: 31.110142735022034\n",
      "Optimized weights: [0.33000102 0.33000102 0.33000101]\n",
      "e_it: 15.032980599645972\n",
      "==============================\n",
      "For random number 48: 24.981760866986292\n",
      "Optimized weights: [0.33000319 0.33000266 0.33000164]\n",
      "e_it: 134.0629150390061\n",
      "==============================\n",
      "For random number 49: 34.1877645285359\n",
      "Optimized weights: [0.32999997 0.33000006 0.33000006]\n",
      "e_it: 0.1653311938372973\n",
      "==============================\n",
      "For random number 50: 24.621021644806355\n",
      "Optimized weights: [0.33 0.33 0.33]\n",
      "e_it: 87.79198736000006\n",
      "==============================\n",
      "For random number 51: 19.170271629089385\n",
      "Optimized weights: [0.33000436 0.33000061 0.33000409]\n",
      "e_it: 0.27139002107729643\n",
      "==============================\n",
      "For random number 52: 17.55475127097882\n",
      "Optimized weights: [0.33000114 0.33000114 0.33000114]\n",
      "e_it: 29.755348494778637\n",
      "==============================\n",
      "For random number 53: 17.910802951332784\n",
      "Optimized weights: [0.32999995 0.33       0.3299998 ]\n",
      "e_it: 2.8702545665464103\n",
      "==============================\n",
      "For random number 54: 16.882567381152413\n",
      "Optimized weights: [0.32999998 0.32999998 0.32999998]\n",
      "e_it: 3.9982629964982297\n",
      "==============================\n",
      "For random number 55: 33.627559787002795\n",
      "Optimized weights: [0.3299975  0.32999737 0.33000512]\n",
      "e_it: 103.82080782994615\n",
      "==============================\n",
      "For random number 56: 28.203456274951456\n",
      "Optimized weights: [0.33 0.33 0.33]\n",
      "e_it: 125.19080336000007\n",
      "==============================\n",
      "For random number 57: 20.909486512462465\n",
      "Optimized weights: [0.33000151 0.32999926 0.32999926]\n",
      "e_it: 2.0198091714347153\n",
      "==============================\n",
      "For random number 58: 17.294652709644154\n",
      "Optimized weights: [0.33000139 0.33000225 0.33000225]\n",
      "e_it: 71.23650891375358\n",
      "==============================\n"
     ]
    },
    {
     "name": "stdout",
     "output_type": "stream",
     "text": [
      "For random number 59: 24.83341184162086\n",
      "Optimized weights: [0.3299999  0.33000022 0.32999989]\n",
      "e_it: 0.10309129488050203\n",
      "==============================\n",
      "For random number 60: 24.959088489510314\n",
      "Optimized weights: [0.33000301 0.33000267 0.3300026 ]\n",
      "e_it: 16.226374580487448\n",
      "==============================\n"
     ]
    }
   ],
   "source": [
    "import numpy as np\n",
    "from scipy.optimize import minimize\n",
    "import random\n",
    "\n",
    "# Define the function to be minimized\n",
    "def objective_function(w):\n",
    "    w1, w2, w3 = w\n",
    "    T_Z1 = 10.39\n",
    "    T_Z2 = 28.03\n",
    "    T_Z3 = 30.9\n",
    "    T_L = round(random.uniform(15, 35), 2)\n",
    "    D_it = 24.6\n",
    "    \n",
    "    return (w1*T_Z1 + w2*T_Z2 + w3*T_Z3 - T_L)**2 + 1000*(w1 + w2 + w3 - 1)**2\n",
    "    # Calculate e_it\n",
    "    e_it = w1 * T_Z1 + w2 * T_Z2 + w3 * T_Z3 - D_it\n",
    "    \n",
    "    return e_it\n",
    "\n",
    "# Generate 60 random real numbers between (15, 35)\n",
    "random_numbers = [random.uniform(15, 35) for i in range(60)]\n",
    "\n",
    "# Define the bounds for the weights (0 <= w_i <= 1 for i=1,2,3)\n",
    "bounds = [(0, 1), (0, 1), (0, 1)]\n",
    "\n",
    "# Calculate optimized_weights for each random real number\n",
    "for i, random_number in enumerate(random_numbers):\n",
    "    initial_guess = [0.33, 0.33, 0.33]\n",
    "    result = minimize(objective_function, initial_guess, bounds=bounds)\n",
    "    optimized_weights = result.x\n",
    "    \n",
    "    e_it = objective_function(optimized_weights)\n",
    "    \n",
    "    print(f\"For random number {i+1}: {random_number}\")\n",
    "    print(\"Optimized weights:\", optimized_weights)\n",
    "    print(f\"e_it: {e_it}\")\n",
    "    print(\"=\"*30)\n"
   ]
  },
  {
   "cell_type": "code",
   "execution_count": null,
   "id": "northern-certificate",
   "metadata": {},
   "outputs": [],
   "source": []
  }
 ],
 "metadata": {
  "kernelspec": {
   "display_name": "Python 3 (ipykernel)",
   "language": "python",
   "name": "python3"
  },
  "language_info": {
   "codemirror_mode": {
    "name": "ipython",
    "version": 3
   },
   "file_extension": ".py",
   "mimetype": "text/x-python",
   "name": "python",
   "nbconvert_exporter": "python",
   "pygments_lexer": "ipython3",
   "version": "3.11.2"
  }
 },
 "nbformat": 4,
 "nbformat_minor": 5
}
